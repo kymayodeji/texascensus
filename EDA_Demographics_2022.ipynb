{
 "cells": [
  {
   "cell_type": "markdown",
   "metadata": {},
   "source": [
    " \n",
    "# Team 63 Exploratory Data Analysis : Demographic County Data\n",
    "## Preliminary\n",
    "\n",
    " \n",
    "\n"
   ]
  },
  {
   "cell_type": "code",
   "execution_count": 1,
   "metadata": {},
   "outputs": [],
   "source": [
    "import pandas as pd\n",
    "import numpy as np\n",
    "import matplotlib.pyplot as plt\n",
    "import plotly.express as px\n",
    "import seaborn as sns"
   ]
  },
  {
   "cell_type": "code",
   "execution_count": 2,
   "metadata": {},
   "outputs": [
    {
     "name": "stdout",
     "output_type": "stream",
     "text": [
      "Demographic:  (57912, 80) ['SUMLEV', 'STATE', 'COUNTY', 'STNAME', 'CTYNAME', 'YEAR', 'AGEGRP', 'TOT_POP', 'TOT_MALE', 'TOT_FEMALE', 'WA_MALE', 'WA_FEMALE', 'BA_MALE', 'BA_FEMALE', 'IA_MALE', 'IA_FEMALE', 'AA_MALE', 'AA_FEMALE', 'NA_MALE', 'NA_FEMALE', 'TOM_MALE', 'TOM_FEMALE', 'WAC_MALE', 'WAC_FEMALE', 'BAC_MALE', 'BAC_FEMALE', 'IAC_MALE', 'IAC_FEMALE', 'AAC_MALE', 'AAC_FEMALE', 'NAC_MALE', 'NAC_FEMALE', 'NH_MALE', 'NH_FEMALE', 'NHWA_MALE', 'NHWA_FEMALE', 'NHBA_MALE', 'NHBA_FEMALE', 'NHIA_MALE', 'NHIA_FEMALE', 'NHAA_MALE', 'NHAA_FEMALE', 'NHNA_MALE', 'NHNA_FEMALE', 'NHTOM_MALE', 'NHTOM_FEMALE', 'NHWAC_MALE', 'NHWAC_FEMALE', 'NHBAC_MALE', 'NHBAC_FEMALE', 'NHIAC_MALE', 'NHIAC_FEMALE', 'NHAAC_MALE', 'NHAAC_FEMALE', 'NHNAC_MALE', 'NHNAC_FEMALE', 'H_MALE', 'H_FEMALE', 'HWA_MALE', 'HWA_FEMALE', 'HBA_MALE', 'HBA_FEMALE', 'HIA_MALE', 'HIA_FEMALE', 'HAA_MALE', 'HAA_FEMALE', 'HNA_MALE', 'HNA_FEMALE', 'HTOM_MALE', 'HTOM_FEMALE', 'HWAC_MALE', 'HWAC_FEMALE', 'HBAC_MALE', 'HBAC_FEMALE', 'HIAC_MALE', 'HIAC_FEMALE', 'HAAC_MALE', 'HAAC_FEMALE', 'HNAC_MALE', 'HNAC_FEMALE']\n"
     ]
    }
   ],
   "source": [
    "# Info about the Texas Demographic Data\n",
    "df_demo=pd.read_csv('data/cc-est2019-alldata-48.csv')\n",
    "print('Demographic: ', df_demo.shape, df_demo.columns.tolist())\n"
   ]
  },
  {
   "cell_type": "code",
   "execution_count": 3,
   "metadata": {},
   "outputs": [
    {
     "data": {
      "text/html": [
       "<div>\n",
       "<style scoped>\n",
       "    .dataframe tbody tr th:only-of-type {\n",
       "        vertical-align: middle;\n",
       "    }\n",
       "\n",
       "    .dataframe tbody tr th {\n",
       "        vertical-align: top;\n",
       "    }\n",
       "\n",
       "    .dataframe thead th {\n",
       "        text-align: right;\n",
       "    }\n",
       "</style>\n",
       "<table border=\"1\" class=\"dataframe\">\n",
       "  <thead>\n",
       "    <tr style=\"text-align: right;\">\n",
       "      <th></th>\n",
       "      <th>SUMLEV</th>\n",
       "      <th>STATE</th>\n",
       "      <th>COUNTY</th>\n",
       "      <th>STNAME</th>\n",
       "      <th>CTYNAME</th>\n",
       "      <th>YEAR</th>\n",
       "      <th>AGEGRP</th>\n",
       "      <th>TOT_POP</th>\n",
       "      <th>TOT_MALE</th>\n",
       "      <th>TOT_FEMALE</th>\n",
       "      <th>...</th>\n",
       "      <th>HWAC_MALE</th>\n",
       "      <th>HWAC_FEMALE</th>\n",
       "      <th>HBAC_MALE</th>\n",
       "      <th>HBAC_FEMALE</th>\n",
       "      <th>HIAC_MALE</th>\n",
       "      <th>HIAC_FEMALE</th>\n",
       "      <th>HAAC_MALE</th>\n",
       "      <th>HAAC_FEMALE</th>\n",
       "      <th>HNAC_MALE</th>\n",
       "      <th>HNAC_FEMALE</th>\n",
       "    </tr>\n",
       "  </thead>\n",
       "  <tbody>\n",
       "    <tr>\n",
       "      <th>0</th>\n",
       "      <td>50</td>\n",
       "      <td>48</td>\n",
       "      <td>1</td>\n",
       "      <td>Texas</td>\n",
       "      <td>Anderson County</td>\n",
       "      <td>1</td>\n",
       "      <td>0</td>\n",
       "      <td>58458</td>\n",
       "      <td>35521</td>\n",
       "      <td>22937</td>\n",
       "      <td>...</td>\n",
       "      <td>5784</td>\n",
       "      <td>2707</td>\n",
       "      <td>321</td>\n",
       "      <td>129</td>\n",
       "      <td>182</td>\n",
       "      <td>88</td>\n",
       "      <td>188</td>\n",
       "      <td>34</td>\n",
       "      <td>82</td>\n",
       "      <td>28</td>\n",
       "    </tr>\n",
       "    <tr>\n",
       "      <th>1</th>\n",
       "      <td>50</td>\n",
       "      <td>48</td>\n",
       "      <td>1</td>\n",
       "      <td>Texas</td>\n",
       "      <td>Anderson County</td>\n",
       "      <td>1</td>\n",
       "      <td>1</td>\n",
       "      <td>3135</td>\n",
       "      <td>1566</td>\n",
       "      <td>1569</td>\n",
       "      <td>...</td>\n",
       "      <td>385</td>\n",
       "      <td>313</td>\n",
       "      <td>22</td>\n",
       "      <td>27</td>\n",
       "      <td>13</td>\n",
       "      <td>9</td>\n",
       "      <td>8</td>\n",
       "      <td>7</td>\n",
       "      <td>3</td>\n",
       "      <td>2</td>\n",
       "    </tr>\n",
       "    <tr>\n",
       "      <th>2</th>\n",
       "      <td>50</td>\n",
       "      <td>48</td>\n",
       "      <td>1</td>\n",
       "      <td>Texas</td>\n",
       "      <td>Anderson County</td>\n",
       "      <td>1</td>\n",
       "      <td>2</td>\n",
       "      <td>3258</td>\n",
       "      <td>1729</td>\n",
       "      <td>1529</td>\n",
       "      <td>...</td>\n",
       "      <td>375</td>\n",
       "      <td>324</td>\n",
       "      <td>17</td>\n",
       "      <td>16</td>\n",
       "      <td>12</td>\n",
       "      <td>11</td>\n",
       "      <td>1</td>\n",
       "      <td>7</td>\n",
       "      <td>9</td>\n",
       "      <td>5</td>\n",
       "    </tr>\n",
       "    <tr>\n",
       "      <th>3</th>\n",
       "      <td>50</td>\n",
       "      <td>48</td>\n",
       "      <td>1</td>\n",
       "      <td>Texas</td>\n",
       "      <td>Anderson County</td>\n",
       "      <td>1</td>\n",
       "      <td>3</td>\n",
       "      <td>3156</td>\n",
       "      <td>1573</td>\n",
       "      <td>1583</td>\n",
       "      <td>...</td>\n",
       "      <td>283</td>\n",
       "      <td>315</td>\n",
       "      <td>21</td>\n",
       "      <td>17</td>\n",
       "      <td>11</td>\n",
       "      <td>11</td>\n",
       "      <td>3</td>\n",
       "      <td>3</td>\n",
       "      <td>2</td>\n",
       "      <td>4</td>\n",
       "    </tr>\n",
       "    <tr>\n",
       "      <th>4</th>\n",
       "      <td>50</td>\n",
       "      <td>48</td>\n",
       "      <td>1</td>\n",
       "      <td>Texas</td>\n",
       "      <td>Anderson County</td>\n",
       "      <td>1</td>\n",
       "      <td>4</td>\n",
       "      <td>3107</td>\n",
       "      <td>1676</td>\n",
       "      <td>1431</td>\n",
       "      <td>...</td>\n",
       "      <td>324</td>\n",
       "      <td>255</td>\n",
       "      <td>7</td>\n",
       "      <td>12</td>\n",
       "      <td>11</td>\n",
       "      <td>13</td>\n",
       "      <td>4</td>\n",
       "      <td>1</td>\n",
       "      <td>2</td>\n",
       "      <td>2</td>\n",
       "    </tr>\n",
       "  </tbody>\n",
       "</table>\n",
       "<p>5 rows × 80 columns</p>\n",
       "</div>"
      ],
      "text/plain": [
       "   SUMLEV  STATE  COUNTY STNAME          CTYNAME  YEAR  AGEGRP  TOT_POP  \\\n",
       "0      50     48       1  Texas  Anderson County     1       0    58458   \n",
       "1      50     48       1  Texas  Anderson County     1       1     3135   \n",
       "2      50     48       1  Texas  Anderson County     1       2     3258   \n",
       "3      50     48       1  Texas  Anderson County     1       3     3156   \n",
       "4      50     48       1  Texas  Anderson County     1       4     3107   \n",
       "\n",
       "   TOT_MALE  TOT_FEMALE  ...  HWAC_MALE  HWAC_FEMALE  HBAC_MALE  HBAC_FEMALE  \\\n",
       "0     35521       22937  ...       5784         2707        321          129   \n",
       "1      1566        1569  ...        385          313         22           27   \n",
       "2      1729        1529  ...        375          324         17           16   \n",
       "3      1573        1583  ...        283          315         21           17   \n",
       "4      1676        1431  ...        324          255          7           12   \n",
       "\n",
       "   HIAC_MALE  HIAC_FEMALE  HAAC_MALE  HAAC_FEMALE  HNAC_MALE  HNAC_FEMALE  \n",
       "0        182           88        188           34         82           28  \n",
       "1         13            9          8            7          3            2  \n",
       "2         12           11          1            7          9            5  \n",
       "3         11           11          3            3          2            4  \n",
       "4         11           13          4            1          2            2  \n",
       "\n",
       "[5 rows x 80 columns]"
      ]
     },
     "execution_count": 3,
     "metadata": {},
     "output_type": "execute_result"
    }
   ],
   "source": [
    "df_demo.head()"
   ]
  },
  {
   "cell_type": "code",
   "execution_count": 4,
   "metadata": {},
   "outputs": [
    {
     "data": {
      "text/html": [
       "<div>\n",
       "<style scoped>\n",
       "    .dataframe tbody tr th:only-of-type {\n",
       "        vertical-align: middle;\n",
       "    }\n",
       "\n",
       "    .dataframe tbody tr th {\n",
       "        vertical-align: top;\n",
       "    }\n",
       "\n",
       "    .dataframe thead th {\n",
       "        text-align: right;\n",
       "    }\n",
       "</style>\n",
       "<table border=\"1\" class=\"dataframe\">\n",
       "  <thead>\n",
       "    <tr style=\"text-align: right;\">\n",
       "      <th></th>\n",
       "      <th>SUMLEV</th>\n",
       "      <th>STATE</th>\n",
       "      <th>STNAME</th>\n",
       "    </tr>\n",
       "  </thead>\n",
       "  <tbody>\n",
       "    <tr>\n",
       "      <th>0</th>\n",
       "      <td>50</td>\n",
       "      <td>48</td>\n",
       "      <td>Texas</td>\n",
       "    </tr>\n",
       "    <tr>\n",
       "      <th>1</th>\n",
       "      <td>50</td>\n",
       "      <td>48</td>\n",
       "      <td>Texas</td>\n",
       "    </tr>\n",
       "    <tr>\n",
       "      <th>2</th>\n",
       "      <td>50</td>\n",
       "      <td>48</td>\n",
       "      <td>Texas</td>\n",
       "    </tr>\n",
       "    <tr>\n",
       "      <th>3</th>\n",
       "      <td>50</td>\n",
       "      <td>48</td>\n",
       "      <td>Texas</td>\n",
       "    </tr>\n",
       "    <tr>\n",
       "      <th>4</th>\n",
       "      <td>50</td>\n",
       "      <td>48</td>\n",
       "      <td>Texas</td>\n",
       "    </tr>\n",
       "  </tbody>\n",
       "</table>\n",
       "</div>"
      ],
      "text/plain": [
       "   SUMLEV  STATE STNAME\n",
       "0      50     48  Texas\n",
       "1      50     48  Texas\n",
       "2      50     48  Texas\n",
       "3      50     48  Texas\n",
       "4      50     48  Texas"
      ]
     },
     "execution_count": 4,
     "metadata": {},
     "output_type": "execute_result"
    }
   ],
   "source": [
    "# Look for unnecessary columns, like the ones with the same State info repeated\n",
    "unique_cols = [c for c in list(df_demo) if len(df_demo[c].unique()) == 1]\n",
    "df_demo[unique_cols].head()"
   ]
  },
  {
   "cell_type": "code",
   "execution_count": 6,
   "metadata": {},
   "outputs": [
    {
     "data": {
      "text/plain": [
       "array([2010, 2011, 2012, 2013, 2014, 2015, 2016, 2017, 2018, 2019],\n",
       "      dtype=int64)"
      ]
     },
     "execution_count": 6,
     "metadata": {},
     "output_type": "execute_result"
    }
   ],
   "source": [
    "# Drop the unnecessary columns\n",
    "#df_demo.drop(['SUMLEV', 'STATE', 'STNAME'],axis=1)\n",
    "# According to the County Characteristics, year 1 is the 2010 Census Population and \n",
    "# years 2&3 are estimates (base and estimate) for 2010,\n",
    "# years 4-12 represent Population estimates for years 2011 - 2019.  \n",
    "# I'm going to drop years 2 and 3 and change the entry to the the year of estimation\n",
    "notneeded = df_demo[(df_demo['YEAR']==2) | (df_demo['YEAR']==3)].index\n",
    "df_demo.drop(notneeded, inplace=True)\n",
    "convert_year_nums = {'YEAR': {1:2010, 4:2011, 5:2012, 6:2013, 7:2014, 8:2015, \n",
    "                             9:2016, 10:2017, 11:2018, 12:2019}}\n",
    "df_demo.replace(convert_year_nums, inplace=True)\n",
    "df_demo['YEAR'].unique()\n"
   ]
  },
  {
   "cell_type": "code",
   "execution_count": 7,
   "metadata": {},
   "outputs": [
    {
     "name": "stdout",
     "output_type": "stream",
     "text": [
      "Total number of Texas Counties in dataset:  254\n"
     ]
    }
   ],
   "source": [
    "#Number of counties in the dataset \n",
    "print('Total number of Texas Counties in dataset: ', df_demo.groupby('COUNTY').ngroups)"
   ]
  },
  {
   "cell_type": "code",
   "execution_count": 10,
   "metadata": {},
   "outputs": [
    {
     "data": {
      "text/plain": [
       "0    Anderson\n",
       "1    Anderson\n",
       "2    Anderson\n",
       "3    Anderson\n",
       "4    Anderson\n",
       "Name: CTYNAME, dtype: object"
      ]
     },
     "execution_count": 10,
     "metadata": {},
     "output_type": "execute_result"
    }
   ],
   "source": [
    "df_demo['CTYNAME']=df_demo['CTYNAME'].str.replace(' County', '')\n",
    "df_demo['CTYNAME'].head()"
   ]
  },
  {
   "cell_type": "code",
   "execution_count": null,
   "metadata": {},
   "outputs": [],
   "source": [
    "#pull out only the country code and its associated name\n",
    "County_Names = TX_counties.loc[:, 'FIPS':'FENAME']\n",
    "# Merge the df_demo with the added columns from County_Name on FIPS ... County Code\n",
    "df_demo_counties = pd.merge(left=df_demo, right=County_Names, left_on='COUNTY', right_on='FIPS')\n",
    "df_demo_counties.head()"
   ]
  },
  {
   "cell_type": "code",
   "execution_count": 12,
   "metadata": {},
   "outputs": [
    {
     "data": {
      "text/plain": [
       "['SUMLEV',\n",
       " 'STATE',\n",
       " 'COUNTYID',\n",
       " 'STNAME',\n",
       " 'COUNTY',\n",
       " 'YEAR',\n",
       " 'AGEGRP',\n",
       " 'TOT_POP',\n",
       " 'TOT_MALE',\n",
       " 'TOT_FEMALE',\n",
       " 'WA_MALE',\n",
       " 'WA_FEMALE',\n",
       " 'BA_MALE',\n",
       " 'BA_FEMALE',\n",
       " 'IA_MALE',\n",
       " 'IA_FEMALE',\n",
       " 'AA_MALE',\n",
       " 'AA_FEMALE',\n",
       " 'NA_MALE',\n",
       " 'NA_FEMALE',\n",
       " 'TOM_MALE',\n",
       " 'TOM_FEMALE',\n",
       " 'WAC_MALE',\n",
       " 'WAC_FEMALE',\n",
       " 'BAC_MALE',\n",
       " 'BAC_FEMALE',\n",
       " 'IAC_MALE',\n",
       " 'IAC_FEMALE',\n",
       " 'AAC_MALE',\n",
       " 'AAC_FEMALE',\n",
       " 'NAC_MALE',\n",
       " 'NAC_FEMALE',\n",
       " 'NH_MALE',\n",
       " 'NH_FEMALE',\n",
       " 'NHWA_MALE',\n",
       " 'NHWA_FEMALE',\n",
       " 'NHBA_MALE',\n",
       " 'NHBA_FEMALE',\n",
       " 'NHIA_MALE',\n",
       " 'NHIA_FEMALE',\n",
       " 'NHAA_MALE',\n",
       " 'NHAA_FEMALE',\n",
       " 'NHNA_MALE',\n",
       " 'NHNA_FEMALE',\n",
       " 'NHTOM_MALE',\n",
       " 'NHTOM_FEMALE',\n",
       " 'NHWAC_MALE',\n",
       " 'NHWAC_FEMALE',\n",
       " 'NHBAC_MALE',\n",
       " 'NHBAC_FEMALE',\n",
       " 'NHIAC_MALE',\n",
       " 'NHIAC_FEMALE',\n",
       " 'NHAAC_MALE',\n",
       " 'NHAAC_FEMALE',\n",
       " 'NHNAC_MALE',\n",
       " 'NHNAC_FEMALE',\n",
       " 'H_MALE',\n",
       " 'H_FEMALE',\n",
       " 'HWA_MALE',\n",
       " 'HWA_FEMALE',\n",
       " 'HBA_MALE',\n",
       " 'HBA_FEMALE',\n",
       " 'HIA_MALE',\n",
       " 'HIA_FEMALE',\n",
       " 'HAA_MALE',\n",
       " 'HAA_FEMALE',\n",
       " 'HNA_MALE',\n",
       " 'HNA_FEMALE',\n",
       " 'HTOM_MALE',\n",
       " 'HTOM_FEMALE',\n",
       " 'HWAC_MALE',\n",
       " 'HWAC_FEMALE',\n",
       " 'HBAC_MALE',\n",
       " 'HBAC_FEMALE',\n",
       " 'HIAC_MALE',\n",
       " 'HIAC_FEMALE',\n",
       " 'HAAC_MALE',\n",
       " 'HAAC_FEMALE',\n",
       " 'HNAC_MALE',\n",
       " 'HNAC_FEMALE']"
      ]
     },
     "execution_count": 12,
     "metadata": {},
     "output_type": "execute_result"
    }
   ],
   "source": [
    "# Rename County to CountyID and FENAME to COUNTY\n",
    "df_demo = df_demo.rename(columns={'COUNTY':'COUNTYID', 'CTYNAME': 'COUNTY'})\n",
    "df_demo.columns.tolist()"
   ]
  },
  {
   "cell_type": "markdown",
   "metadata": {},
   "source": [
    "Instead of initially looking at all 254 counties, I want to focus on a smaller list of counties."
   ]
  },
  {
   "cell_type": "code",
   "execution_count": 14,
   "metadata": {},
   "outputs": [
    {
     "data": {
      "text/plain": [
       "(2660, 80)"
      ]
     },
     "execution_count": 14,
     "metadata": {},
     "output_type": "execute_result"
    }
   ],
   "source": [
    "\n",
    "# Since only have shutdown information from only a few of the 254 counties in TX\n",
    "# We only want to look at the information for those counties\n",
    "spec_counties = ['Bell','Bexar','Bowie','Brazoria','Brazos','Harris','Castro',\n",
    "                 'Chambers','Collin','Comal','Dallas','Denton','Ellis','El Paso']\n",
    "df_spec_counties = df_demo[df_demo['COUNTY'].isin(spec_counties)].reset_index(drop=True)\n",
    "df_spec_counties.shape\n",
    "\n"
   ]
  },
  {
   "cell_type": "code",
   "execution_count": 16,
   "metadata": {
    "scrolled": true
   },
   "outputs": [
    {
     "name": "stdout",
     "output_type": "stream",
     "text": [
      "Total number of Special Texas Counties in dataset:  14\n"
     ]
    },
    {
     "data": {
      "text/plain": [
       "['Bell',\n",
       " 'Bexar',\n",
       " 'Bowie',\n",
       " 'Brazoria',\n",
       " 'Brazos',\n",
       " 'Castro',\n",
       " 'Chambers',\n",
       " 'Collin',\n",
       " 'Comal',\n",
       " 'Dallas',\n",
       " 'Denton',\n",
       " 'Ellis',\n",
       " 'El Paso',\n",
       " 'Harris']"
      ]
     },
     "execution_count": 16,
     "metadata": {},
     "output_type": "execute_result"
    }
   ],
   "source": [
    "print('Total number of Special Texas Counties in dataset: ', df_spec_counties.groupby('COUNTY').ngroups)\n",
    "df_spec_counties['COUNTY'].unique().tolist()"
   ]
  },
  {
   "cell_type": "code",
   "execution_count": 18,
   "metadata": {},
   "outputs": [
    {
     "data": {
      "text/html": [
       "<div>\n",
       "<style scoped>\n",
       "    .dataframe tbody tr th:only-of-type {\n",
       "        vertical-align: middle;\n",
       "    }\n",
       "\n",
       "    .dataframe tbody tr th {\n",
       "        vertical-align: top;\n",
       "    }\n",
       "\n",
       "    .dataframe thead th {\n",
       "        text-align: right;\n",
       "    }\n",
       "</style>\n",
       "<table border=\"1\" class=\"dataframe\">\n",
       "  <thead>\n",
       "    <tr style=\"text-align: right;\">\n",
       "      <th></th>\n",
       "      <th>COUNTY</th>\n",
       "      <th>YEAR</th>\n",
       "      <th>COUNTYID</th>\n",
       "      <th>AGEGRP</th>\n",
       "      <th>TOT_POP</th>\n",
       "      <th>TOT_MALE</th>\n",
       "      <th>TOT_FEMALE</th>\n",
       "      <th>WA_MALE</th>\n",
       "      <th>WA_FEMALE</th>\n",
       "      <th>BA_MALE</th>\n",
       "      <th>...</th>\n",
       "      <th>HWAC_MALE</th>\n",
       "      <th>HWAC_FEMALE</th>\n",
       "      <th>HBAC_MALE</th>\n",
       "      <th>HBAC_FEMALE</th>\n",
       "      <th>HIAC_MALE</th>\n",
       "      <th>HIAC_FEMALE</th>\n",
       "      <th>HAAC_MALE</th>\n",
       "      <th>HAAC_FEMALE</th>\n",
       "      <th>HNAC_MALE</th>\n",
       "      <th>HNAC_FEMALE</th>\n",
       "    </tr>\n",
       "  </thead>\n",
       "  <tbody>\n",
       "    <tr>\n",
       "      <th>0</th>\n",
       "      <td>Bell</td>\n",
       "      <td>2010</td>\n",
       "      <td>513</td>\n",
       "      <td>171</td>\n",
       "      <td>620470</td>\n",
       "      <td>306928</td>\n",
       "      <td>313542</td>\n",
       "      <td>213000</td>\n",
       "      <td>212962</td>\n",
       "      <td>68780</td>\n",
       "      <td>...</td>\n",
       "      <td>58154</td>\n",
       "      <td>57082</td>\n",
       "      <td>6846</td>\n",
       "      <td>7796</td>\n",
       "      <td>2780</td>\n",
       "      <td>2864</td>\n",
       "      <td>1682</td>\n",
       "      <td>1638</td>\n",
       "      <td>786</td>\n",
       "      <td>808</td>\n",
       "    </tr>\n",
       "    <tr>\n",
       "      <th>1</th>\n",
       "      <td>Bell</td>\n",
       "      <td>2011</td>\n",
       "      <td>513</td>\n",
       "      <td>171</td>\n",
       "      <td>631598</td>\n",
       "      <td>312510</td>\n",
       "      <td>319088</td>\n",
       "      <td>216282</td>\n",
       "      <td>216372</td>\n",
       "      <td>70054</td>\n",
       "      <td>...</td>\n",
       "      <td>61540</td>\n",
       "      <td>60456</td>\n",
       "      <td>7156</td>\n",
       "      <td>8228</td>\n",
       "      <td>3042</td>\n",
       "      <td>2992</td>\n",
       "      <td>1560</td>\n",
       "      <td>1616</td>\n",
       "      <td>730</td>\n",
       "      <td>744</td>\n",
       "    </tr>\n",
       "    <tr>\n",
       "      <th>2</th>\n",
       "      <td>Bell</td>\n",
       "      <td>2012</td>\n",
       "      <td>513</td>\n",
       "      <td>171</td>\n",
       "      <td>649926</td>\n",
       "      <td>325754</td>\n",
       "      <td>324172</td>\n",
       "      <td>225638</td>\n",
       "      <td>219316</td>\n",
       "      <td>72666</td>\n",
       "      <td>...</td>\n",
       "      <td>65126</td>\n",
       "      <td>62722</td>\n",
       "      <td>7456</td>\n",
       "      <td>8448</td>\n",
       "      <td>3084</td>\n",
       "      <td>3000</td>\n",
       "      <td>1646</td>\n",
       "      <td>1746</td>\n",
       "      <td>780</td>\n",
       "      <td>742</td>\n",
       "    </tr>\n",
       "    <tr>\n",
       "      <th>3</th>\n",
       "      <td>Bell</td>\n",
       "      <td>2013</td>\n",
       "      <td>513</td>\n",
       "      <td>171</td>\n",
       "      <td>654056</td>\n",
       "      <td>327556</td>\n",
       "      <td>326500</td>\n",
       "      <td>226222</td>\n",
       "      <td>220210</td>\n",
       "      <td>73472</td>\n",
       "      <td>...</td>\n",
       "      <td>67208</td>\n",
       "      <td>64480</td>\n",
       "      <td>7560</td>\n",
       "      <td>8646</td>\n",
       "      <td>3130</td>\n",
       "      <td>3080</td>\n",
       "      <td>1648</td>\n",
       "      <td>1736</td>\n",
       "      <td>752</td>\n",
       "      <td>754</td>\n",
       "    </tr>\n",
       "    <tr>\n",
       "      <th>4</th>\n",
       "      <td>Bell</td>\n",
       "      <td>2014</td>\n",
       "      <td>513</td>\n",
       "      <td>171</td>\n",
       "      <td>660298</td>\n",
       "      <td>330636</td>\n",
       "      <td>329662</td>\n",
       "      <td>226418</td>\n",
       "      <td>220766</td>\n",
       "      <td>75552</td>\n",
       "      <td>...</td>\n",
       "      <td>69094</td>\n",
       "      <td>66340</td>\n",
       "      <td>7892</td>\n",
       "      <td>8898</td>\n",
       "      <td>3210</td>\n",
       "      <td>3156</td>\n",
       "      <td>1720</td>\n",
       "      <td>1736</td>\n",
       "      <td>786</td>\n",
       "      <td>776</td>\n",
       "    </tr>\n",
       "  </tbody>\n",
       "</table>\n",
       "<p>5 rows × 77 columns</p>\n",
       "</div>"
      ],
      "text/plain": [
       "  COUNTY  YEAR  COUNTYID  AGEGRP  TOT_POP  TOT_MALE  TOT_FEMALE  WA_MALE  \\\n",
       "0   Bell  2010       513     171   620470    306928      313542   213000   \n",
       "1   Bell  2011       513     171   631598    312510      319088   216282   \n",
       "2   Bell  2012       513     171   649926    325754      324172   225638   \n",
       "3   Bell  2013       513     171   654056    327556      326500   226222   \n",
       "4   Bell  2014       513     171   660298    330636      329662   226418   \n",
       "\n",
       "   WA_FEMALE  BA_MALE  ...  HWAC_MALE  HWAC_FEMALE  HBAC_MALE  HBAC_FEMALE  \\\n",
       "0     212962    68780  ...      58154        57082       6846         7796   \n",
       "1     216372    70054  ...      61540        60456       7156         8228   \n",
       "2     219316    72666  ...      65126        62722       7456         8448   \n",
       "3     220210    73472  ...      67208        64480       7560         8646   \n",
       "4     220766    75552  ...      69094        66340       7892         8898   \n",
       "\n",
       "   HIAC_MALE  HIAC_FEMALE  HAAC_MALE  HAAC_FEMALE  HNAC_MALE  HNAC_FEMALE  \n",
       "0       2780         2864       1682         1638        786          808  \n",
       "1       3042         2992       1560         1616        730          744  \n",
       "2       3084         3000       1646         1746        780          742  \n",
       "3       3130         3080       1648         1736        752          754  \n",
       "4       3210         3156       1720         1736        786          776  \n",
       "\n",
       "[5 rows x 77 columns]"
      ]
     },
     "execution_count": 18,
     "metadata": {},
     "output_type": "execute_result"
    }
   ],
   "source": [
    "#Group the rows by County and Year, then sum the columns so I don't have to look at the data by age group\n",
    "grouped_spec_counties = df_spec_counties.groupby(['COUNTY', 'YEAR'])\n",
    "df=grouped_spec_counties.sum()\n",
    "# drop unnecessary columns\n",
    "df = df.drop(['SUMLEV', 'STATE', 'STNAME'],axis=1).reset_index()\n",
    "df.head()\n"
   ]
  },
  {
   "cell_type": "code",
   "execution_count": 19,
   "metadata": {},
   "outputs": [
    {
     "data": {
      "application/vnd.plotly.v1+json": {
       "config": {
        "plotlyServerURL": "https://plot.ly"
       },
       "data": [
        {
         "hovertemplate": "COUNTY=Bell<br>YEAR=%{x}<br>TOT_POP=%{y}<extra></extra>",
         "legendgroup": "Bell",
         "line": {
          "color": "#FD3216",
          "dash": "solid"
         },
         "marker": {
          "symbol": "circle"
         },
         "mode": "markers+lines",
         "name": "Bell",
         "orientation": "v",
         "showlegend": true,
         "type": "scatter",
         "x": [
          2010,
          2011,
          2012,
          2013,
          2014,
          2015,
          2016,
          2017,
          2018,
          2019
         ],
         "xaxis": "x",
         "y": [
          620470,
          631598,
          649926,
          654056,
          660298,
          672152,
          682188,
          694754,
          710794,
          725848
         ],
         "yaxis": "y"
        },
        {
         "hovertemplate": "COUNTY=Bexar<br>YEAR=%{x}<br>TOT_POP=%{y}<extra></extra>",
         "legendgroup": "Bexar",
         "line": {
          "color": "#00FE35",
          "dash": "solid"
         },
         "marker": {
          "symbol": "circle"
         },
         "mode": "markers+lines",
         "name": "Bexar",
         "orientation": "v",
         "showlegend": true,
         "type": "scatter",
         "x": [
          2010,
          2011,
          2012,
          2013,
          2014,
          2015,
          2016,
          2017,
          2018,
          2019
         ],
         "xaxis": "x",
         "y": [
          3429546,
          3510722,
          3577476,
          3642656,
          3716006,
          3789668,
          3855302,
          3913976,
          3962374,
          4007108
         ],
         "yaxis": "y"
        },
        {
         "hovertemplate": "COUNTY=Bowie<br>YEAR=%{x}<br>TOT_POP=%{y}<extra></extra>",
         "legendgroup": "Bowie",
         "line": {
          "color": "#6A76FC",
          "dash": "solid"
         },
         "marker": {
          "symbol": "circle"
         },
         "mode": "markers+lines",
         "name": "Bowie",
         "orientation": "v",
         "showlegend": true,
         "type": "scatter",
         "x": [
          2010,
          2011,
          2012,
          2013,
          2014,
          2015,
          2016,
          2017,
          2018,
          2019
         ],
         "xaxis": "x",
         "y": [
          185130,
          185616,
          186060,
          186748,
          186536,
          186100,
          186848,
          186916,
          187376,
          186490
         ],
         "yaxis": "y"
        },
        {
         "hovertemplate": "COUNTY=Brazoria<br>YEAR=%{x}<br>TOT_POP=%{y}<extra></extra>",
         "legendgroup": "Brazoria",
         "line": {
          "color": "#FED4C4",
          "dash": "solid"
         },
         "marker": {
          "symbol": "circle"
         },
         "mode": "markers+lines",
         "name": "Brazoria",
         "orientation": "v",
         "showlegend": true,
         "type": "scatter",
         "x": [
          2010,
          2011,
          2012,
          2013,
          2014,
          2015,
          2016,
          2017,
          2018,
          2019
         ],
         "xaxis": "x",
         "y": [
          626332,
          638294,
          648448,
          659780,
          675140,
          690454,
          706310,
          723706,
          737774,
          748528
         ],
         "yaxis": "y"
        },
        {
         "hovertemplate": "COUNTY=Brazos<br>YEAR=%{x}<br>TOT_POP=%{y}<extra></extra>",
         "legendgroup": "Brazos",
         "line": {
          "color": "#FE00CE",
          "dash": "solid"
         },
         "marker": {
          "symbol": "circle"
         },
         "mode": "markers+lines",
         "name": "Brazos",
         "orientation": "v",
         "showlegend": true,
         "type": "scatter",
         "x": [
          2010,
          2011,
          2012,
          2013,
          2014,
          2015,
          2016,
          2017,
          2018,
          2019
         ],
         "xaxis": "x",
         "y": [
          389702,
          394900,
          400520,
          408232,
          417950,
          432516,
          439478,
          447834,
          451562,
          458422
         ],
         "yaxis": "y"
        },
        {
         "hovertemplate": "COUNTY=Castro<br>YEAR=%{x}<br>TOT_POP=%{y}<extra></extra>",
         "legendgroup": "Castro",
         "line": {
          "color": "#0DF9FF",
          "dash": "solid"
         },
         "marker": {
          "symbol": "circle"
         },
         "mode": "markers+lines",
         "name": "Castro",
         "orientation": "v",
         "showlegend": true,
         "type": "scatter",
         "x": [
          2010,
          2011,
          2012,
          2013,
          2014,
          2015,
          2016,
          2017,
          2018,
          2019
         ],
         "xaxis": "x",
         "y": [
          16124,
          16188,
          16524,
          16240,
          15854,
          15574,
          15530,
          15392,
          15176,
          15060
         ],
         "yaxis": "y"
        },
        {
         "hovertemplate": "COUNTY=Chambers<br>YEAR=%{x}<br>TOT_POP=%{y}<extra></extra>",
         "legendgroup": "Chambers",
         "line": {
          "color": "#F6F926",
          "dash": "solid"
         },
         "marker": {
          "symbol": "circle"
         },
         "mode": "markers+lines",
         "name": "Chambers",
         "orientation": "v",
         "showlegend": true,
         "type": "scatter",
         "x": [
          2010,
          2011,
          2012,
          2013,
          2014,
          2015,
          2016,
          2017,
          2018,
          2019
         ],
         "xaxis": "x",
         "y": [
          70192,
          71398,
          73016,
          74734,
          76592,
          78056,
          80326,
          82538,
          84454,
          87674
         ],
         "yaxis": "y"
        },
        {
         "hovertemplate": "COUNTY=Collin<br>YEAR=%{x}<br>TOT_POP=%{y}<extra></extra>",
         "legendgroup": "Collin",
         "line": {
          "color": "#FF9616",
          "dash": "solid"
         },
         "marker": {
          "symbol": "circle"
         },
         "mode": "markers+lines",
         "name": "Collin",
         "orientation": "v",
         "showlegend": true,
         "type": "scatter",
         "x": [
          2010,
          2011,
          2012,
          2013,
          2014,
          2015,
          2016,
          2017,
          2018,
          2019
         ],
         "xaxis": "x",
         "y": [
          1564682,
          1625080,
          1670460,
          1712796,
          1769376,
          1830486,
          1887484,
          1943728,
          2008614,
          2069460
         ],
         "yaxis": "y"
        },
        {
         "hovertemplate": "COUNTY=Comal<br>YEAR=%{x}<br>TOT_POP=%{y}<extra></extra>",
         "legendgroup": "Comal",
         "line": {
          "color": "#479B55",
          "dash": "solid"
         },
         "marker": {
          "symbol": "circle"
         },
         "mode": "markers+lines",
         "name": "Comal",
         "orientation": "v",
         "showlegend": true,
         "type": "scatter",
         "x": [
          2010,
          2011,
          2012,
          2013,
          2014,
          2015,
          2016,
          2017,
          2018,
          2019
         ],
         "xaxis": "x",
         "y": [
          216944,
          224226,
          229746,
          237254,
          246428,
          257590,
          268686,
          281442,
          296282,
          312418
         ],
         "yaxis": "y"
        },
        {
         "hovertemplate": "COUNTY=Dallas<br>YEAR=%{x}<br>TOT_POP=%{y}<extra></extra>",
         "legendgroup": "Dallas",
         "line": {
          "color": "#EEA6FB",
          "dash": "solid"
         },
         "marker": {
          "symbol": "circle"
         },
         "mode": "markers+lines",
         "name": "Dallas",
         "orientation": "v",
         "showlegend": true,
         "type": "scatter",
         "x": [
          2010,
          2011,
          2012,
          2013,
          2014,
          2015,
          2016,
          2017,
          2018,
          2019
         ],
         "xaxis": "x",
         "y": [
          4736278,
          4817394,
          4911860,
          4968972,
          5038820,
          5115660,
          5182976,
          5240308,
          5258700,
          5271032
         ],
         "yaxis": "y"
        },
        {
         "hovertemplate": "COUNTY=Denton<br>YEAR=%{x}<br>TOT_POP=%{y}<extra></extra>",
         "legendgroup": "Denton",
         "line": {
          "color": "#DC587D",
          "dash": "solid"
         },
         "marker": {
          "symbol": "circle"
         },
         "mode": "markers+lines",
         "name": "Denton",
         "orientation": "v",
         "showlegend": true,
         "type": "scatter",
         "x": [
          2010,
          2011,
          2012,
          2013,
          2014,
          2015,
          2016,
          2017,
          2018,
          2019
         ],
         "xaxis": "x",
         "y": [
          1325228,
          1371480,
          1415784,
          1457248,
          1506376,
          1559168,
          1616424,
          1670728,
          1717482,
          1774414
         ],
         "yaxis": "y"
        },
        {
         "hovertemplate": "COUNTY=El Paso<br>YEAR=%{x}<br>TOT_POP=%{y}<extra></extra>",
         "legendgroup": "El Paso",
         "line": {
          "color": "#D626FF",
          "dash": "solid"
         },
         "marker": {
          "symbol": "circle"
         },
         "mode": "markers+lines",
         "name": "El Paso",
         "orientation": "v",
         "showlegend": true,
         "type": "scatter",
         "x": [
          2010,
          2011,
          2012,
          2013,
          2014,
          2015,
          2016,
          2017,
          2018,
          2019
         ],
         "xaxis": "x",
         "y": [
          1601294,
          1639792,
          1664620,
          1661728,
          1667566,
          1663796,
          1669898,
          1674802,
          1673650,
          1678476
         ],
         "yaxis": "y"
        },
        {
         "hovertemplate": "COUNTY=Ellis<br>YEAR=%{x}<br>TOT_POP=%{y}<extra></extra>",
         "legendgroup": "Ellis",
         "line": {
          "color": "#6E899C",
          "dash": "solid"
         },
         "marker": {
          "symbol": "circle"
         },
         "mode": "markers+lines",
         "name": "Ellis",
         "orientation": "v",
         "showlegend": true,
         "type": "scatter",
         "x": [
          2010,
          2011,
          2012,
          2013,
          2014,
          2015,
          2016,
          2017,
          2018,
          2019
         ],
         "xaxis": "x",
         "y": [
          299220,
          304746,
          307478,
          311856,
          318408,
          326584,
          336664,
          346810,
          358012,
          369652
         ],
         "yaxis": "y"
        },
        {
         "hovertemplate": "COUNTY=Harris<br>YEAR=%{x}<br>TOT_POP=%{y}<extra></extra>",
         "legendgroup": "Harris",
         "line": {
          "color": "#00B5F7",
          "dash": "solid"
         },
         "marker": {
          "symbol": "circle"
         },
         "mode": "markers+lines",
         "name": "Harris",
         "orientation": "v",
         "showlegend": true,
         "type": "scatter",
         "x": [
          2010,
          2011,
          2012,
          2013,
          2014,
          2015,
          2016,
          2017,
          2018,
          2019
         ],
         "xaxis": "x",
         "y": [
          8184918,
          8359136,
          8526188,
          8706374,
          8911988,
          9115692,
          9247920,
          9315944,
          9360090,
          9426650
         ],
         "yaxis": "y"
        }
       ],
       "layout": {
        "legend": {
         "title": {
          "text": "COUNTY"
         },
         "tracegroupgap": 0
        },
        "margin": {
         "t": 60
        },
        "template": {
         "data": {
          "bar": [
           {
            "error_x": {
             "color": "#2a3f5f"
            },
            "error_y": {
             "color": "#2a3f5f"
            },
            "marker": {
             "line": {
              "color": "#E5ECF6",
              "width": 0.5
             },
             "pattern": {
              "fillmode": "overlay",
              "size": 10,
              "solidity": 0.2
             }
            },
            "type": "bar"
           }
          ],
          "barpolar": [
           {
            "marker": {
             "line": {
              "color": "#E5ECF6",
              "width": 0.5
             },
             "pattern": {
              "fillmode": "overlay",
              "size": 10,
              "solidity": 0.2
             }
            },
            "type": "barpolar"
           }
          ],
          "carpet": [
           {
            "aaxis": {
             "endlinecolor": "#2a3f5f",
             "gridcolor": "white",
             "linecolor": "white",
             "minorgridcolor": "white",
             "startlinecolor": "#2a3f5f"
            },
            "baxis": {
             "endlinecolor": "#2a3f5f",
             "gridcolor": "white",
             "linecolor": "white",
             "minorgridcolor": "white",
             "startlinecolor": "#2a3f5f"
            },
            "type": "carpet"
           }
          ],
          "choropleth": [
           {
            "colorbar": {
             "outlinewidth": 0,
             "ticks": ""
            },
            "type": "choropleth"
           }
          ],
          "contour": [
           {
            "colorbar": {
             "outlinewidth": 0,
             "ticks": ""
            },
            "colorscale": [
             [
              0,
              "#0d0887"
             ],
             [
              0.1111111111111111,
              "#46039f"
             ],
             [
              0.2222222222222222,
              "#7201a8"
             ],
             [
              0.3333333333333333,
              "#9c179e"
             ],
             [
              0.4444444444444444,
              "#bd3786"
             ],
             [
              0.5555555555555556,
              "#d8576b"
             ],
             [
              0.6666666666666666,
              "#ed7953"
             ],
             [
              0.7777777777777778,
              "#fb9f3a"
             ],
             [
              0.8888888888888888,
              "#fdca26"
             ],
             [
              1,
              "#f0f921"
             ]
            ],
            "type": "contour"
           }
          ],
          "contourcarpet": [
           {
            "colorbar": {
             "outlinewidth": 0,
             "ticks": ""
            },
            "type": "contourcarpet"
           }
          ],
          "heatmap": [
           {
            "colorbar": {
             "outlinewidth": 0,
             "ticks": ""
            },
            "colorscale": [
             [
              0,
              "#0d0887"
             ],
             [
              0.1111111111111111,
              "#46039f"
             ],
             [
              0.2222222222222222,
              "#7201a8"
             ],
             [
              0.3333333333333333,
              "#9c179e"
             ],
             [
              0.4444444444444444,
              "#bd3786"
             ],
             [
              0.5555555555555556,
              "#d8576b"
             ],
             [
              0.6666666666666666,
              "#ed7953"
             ],
             [
              0.7777777777777778,
              "#fb9f3a"
             ],
             [
              0.8888888888888888,
              "#fdca26"
             ],
             [
              1,
              "#f0f921"
             ]
            ],
            "type": "heatmap"
           }
          ],
          "heatmapgl": [
           {
            "colorbar": {
             "outlinewidth": 0,
             "ticks": ""
            },
            "colorscale": [
             [
              0,
              "#0d0887"
             ],
             [
              0.1111111111111111,
              "#46039f"
             ],
             [
              0.2222222222222222,
              "#7201a8"
             ],
             [
              0.3333333333333333,
              "#9c179e"
             ],
             [
              0.4444444444444444,
              "#bd3786"
             ],
             [
              0.5555555555555556,
              "#d8576b"
             ],
             [
              0.6666666666666666,
              "#ed7953"
             ],
             [
              0.7777777777777778,
              "#fb9f3a"
             ],
             [
              0.8888888888888888,
              "#fdca26"
             ],
             [
              1,
              "#f0f921"
             ]
            ],
            "type": "heatmapgl"
           }
          ],
          "histogram": [
           {
            "marker": {
             "pattern": {
              "fillmode": "overlay",
              "size": 10,
              "solidity": 0.2
             }
            },
            "type": "histogram"
           }
          ],
          "histogram2d": [
           {
            "colorbar": {
             "outlinewidth": 0,
             "ticks": ""
            },
            "colorscale": [
             [
              0,
              "#0d0887"
             ],
             [
              0.1111111111111111,
              "#46039f"
             ],
             [
              0.2222222222222222,
              "#7201a8"
             ],
             [
              0.3333333333333333,
              "#9c179e"
             ],
             [
              0.4444444444444444,
              "#bd3786"
             ],
             [
              0.5555555555555556,
              "#d8576b"
             ],
             [
              0.6666666666666666,
              "#ed7953"
             ],
             [
              0.7777777777777778,
              "#fb9f3a"
             ],
             [
              0.8888888888888888,
              "#fdca26"
             ],
             [
              1,
              "#f0f921"
             ]
            ],
            "type": "histogram2d"
           }
          ],
          "histogram2dcontour": [
           {
            "colorbar": {
             "outlinewidth": 0,
             "ticks": ""
            },
            "colorscale": [
             [
              0,
              "#0d0887"
             ],
             [
              0.1111111111111111,
              "#46039f"
             ],
             [
              0.2222222222222222,
              "#7201a8"
             ],
             [
              0.3333333333333333,
              "#9c179e"
             ],
             [
              0.4444444444444444,
              "#bd3786"
             ],
             [
              0.5555555555555556,
              "#d8576b"
             ],
             [
              0.6666666666666666,
              "#ed7953"
             ],
             [
              0.7777777777777778,
              "#fb9f3a"
             ],
             [
              0.8888888888888888,
              "#fdca26"
             ],
             [
              1,
              "#f0f921"
             ]
            ],
            "type": "histogram2dcontour"
           }
          ],
          "mesh3d": [
           {
            "colorbar": {
             "outlinewidth": 0,
             "ticks": ""
            },
            "type": "mesh3d"
           }
          ],
          "parcoords": [
           {
            "line": {
             "colorbar": {
              "outlinewidth": 0,
              "ticks": ""
             }
            },
            "type": "parcoords"
           }
          ],
          "pie": [
           {
            "automargin": true,
            "type": "pie"
           }
          ],
          "scatter": [
           {
            "fillpattern": {
             "fillmode": "overlay",
             "size": 10,
             "solidity": 0.2
            },
            "type": "scatter"
           }
          ],
          "scatter3d": [
           {
            "line": {
             "colorbar": {
              "outlinewidth": 0,
              "ticks": ""
             }
            },
            "marker": {
             "colorbar": {
              "outlinewidth": 0,
              "ticks": ""
             }
            },
            "type": "scatter3d"
           }
          ],
          "scattercarpet": [
           {
            "marker": {
             "colorbar": {
              "outlinewidth": 0,
              "ticks": ""
             }
            },
            "type": "scattercarpet"
           }
          ],
          "scattergeo": [
           {
            "marker": {
             "colorbar": {
              "outlinewidth": 0,
              "ticks": ""
             }
            },
            "type": "scattergeo"
           }
          ],
          "scattergl": [
           {
            "marker": {
             "colorbar": {
              "outlinewidth": 0,
              "ticks": ""
             }
            },
            "type": "scattergl"
           }
          ],
          "scattermapbox": [
           {
            "marker": {
             "colorbar": {
              "outlinewidth": 0,
              "ticks": ""
             }
            },
            "type": "scattermapbox"
           }
          ],
          "scatterpolar": [
           {
            "marker": {
             "colorbar": {
              "outlinewidth": 0,
              "ticks": ""
             }
            },
            "type": "scatterpolar"
           }
          ],
          "scatterpolargl": [
           {
            "marker": {
             "colorbar": {
              "outlinewidth": 0,
              "ticks": ""
             }
            },
            "type": "scatterpolargl"
           }
          ],
          "scatterternary": [
           {
            "marker": {
             "colorbar": {
              "outlinewidth": 0,
              "ticks": ""
             }
            },
            "type": "scatterternary"
           }
          ],
          "surface": [
           {
            "colorbar": {
             "outlinewidth": 0,
             "ticks": ""
            },
            "colorscale": [
             [
              0,
              "#0d0887"
             ],
             [
              0.1111111111111111,
              "#46039f"
             ],
             [
              0.2222222222222222,
              "#7201a8"
             ],
             [
              0.3333333333333333,
              "#9c179e"
             ],
             [
              0.4444444444444444,
              "#bd3786"
             ],
             [
              0.5555555555555556,
              "#d8576b"
             ],
             [
              0.6666666666666666,
              "#ed7953"
             ],
             [
              0.7777777777777778,
              "#fb9f3a"
             ],
             [
              0.8888888888888888,
              "#fdca26"
             ],
             [
              1,
              "#f0f921"
             ]
            ],
            "type": "surface"
           }
          ],
          "table": [
           {
            "cells": {
             "fill": {
              "color": "#EBF0F8"
             },
             "line": {
              "color": "white"
             }
            },
            "header": {
             "fill": {
              "color": "#C8D4E3"
             },
             "line": {
              "color": "white"
             }
            },
            "type": "table"
           }
          ]
         },
         "layout": {
          "annotationdefaults": {
           "arrowcolor": "#2a3f5f",
           "arrowhead": 0,
           "arrowwidth": 1
          },
          "autotypenumbers": "strict",
          "coloraxis": {
           "colorbar": {
            "outlinewidth": 0,
            "ticks": ""
           }
          },
          "colorscale": {
           "diverging": [
            [
             0,
             "#8e0152"
            ],
            [
             0.1,
             "#c51b7d"
            ],
            [
             0.2,
             "#de77ae"
            ],
            [
             0.3,
             "#f1b6da"
            ],
            [
             0.4,
             "#fde0ef"
            ],
            [
             0.5,
             "#f7f7f7"
            ],
            [
             0.6,
             "#e6f5d0"
            ],
            [
             0.7,
             "#b8e186"
            ],
            [
             0.8,
             "#7fbc41"
            ],
            [
             0.9,
             "#4d9221"
            ],
            [
             1,
             "#276419"
            ]
           ],
           "sequential": [
            [
             0,
             "#0d0887"
            ],
            [
             0.1111111111111111,
             "#46039f"
            ],
            [
             0.2222222222222222,
             "#7201a8"
            ],
            [
             0.3333333333333333,
             "#9c179e"
            ],
            [
             0.4444444444444444,
             "#bd3786"
            ],
            [
             0.5555555555555556,
             "#d8576b"
            ],
            [
             0.6666666666666666,
             "#ed7953"
            ],
            [
             0.7777777777777778,
             "#fb9f3a"
            ],
            [
             0.8888888888888888,
             "#fdca26"
            ],
            [
             1,
             "#f0f921"
            ]
           ],
           "sequentialminus": [
            [
             0,
             "#0d0887"
            ],
            [
             0.1111111111111111,
             "#46039f"
            ],
            [
             0.2222222222222222,
             "#7201a8"
            ],
            [
             0.3333333333333333,
             "#9c179e"
            ],
            [
             0.4444444444444444,
             "#bd3786"
            ],
            [
             0.5555555555555556,
             "#d8576b"
            ],
            [
             0.6666666666666666,
             "#ed7953"
            ],
            [
             0.7777777777777778,
             "#fb9f3a"
            ],
            [
             0.8888888888888888,
             "#fdca26"
            ],
            [
             1,
             "#f0f921"
            ]
           ]
          },
          "colorway": [
           "#636efa",
           "#EF553B",
           "#00cc96",
           "#ab63fa",
           "#FFA15A",
           "#19d3f3",
           "#FF6692",
           "#B6E880",
           "#FF97FF",
           "#FECB52"
          ],
          "font": {
           "color": "#2a3f5f"
          },
          "geo": {
           "bgcolor": "white",
           "lakecolor": "white",
           "landcolor": "#E5ECF6",
           "showlakes": true,
           "showland": true,
           "subunitcolor": "white"
          },
          "hoverlabel": {
           "align": "left"
          },
          "hovermode": "closest",
          "mapbox": {
           "style": "light"
          },
          "paper_bgcolor": "white",
          "plot_bgcolor": "#E5ECF6",
          "polar": {
           "angularaxis": {
            "gridcolor": "white",
            "linecolor": "white",
            "ticks": ""
           },
           "bgcolor": "#E5ECF6",
           "radialaxis": {
            "gridcolor": "white",
            "linecolor": "white",
            "ticks": ""
           }
          },
          "scene": {
           "xaxis": {
            "backgroundcolor": "#E5ECF6",
            "gridcolor": "white",
            "gridwidth": 2,
            "linecolor": "white",
            "showbackground": true,
            "ticks": "",
            "zerolinecolor": "white"
           },
           "yaxis": {
            "backgroundcolor": "#E5ECF6",
            "gridcolor": "white",
            "gridwidth": 2,
            "linecolor": "white",
            "showbackground": true,
            "ticks": "",
            "zerolinecolor": "white"
           },
           "zaxis": {
            "backgroundcolor": "#E5ECF6",
            "gridcolor": "white",
            "gridwidth": 2,
            "linecolor": "white",
            "showbackground": true,
            "ticks": "",
            "zerolinecolor": "white"
           }
          },
          "shapedefaults": {
           "line": {
            "color": "#2a3f5f"
           }
          },
          "ternary": {
           "aaxis": {
            "gridcolor": "white",
            "linecolor": "white",
            "ticks": ""
           },
           "baxis": {
            "gridcolor": "white",
            "linecolor": "white",
            "ticks": ""
           },
           "bgcolor": "#E5ECF6",
           "caxis": {
            "gridcolor": "white",
            "linecolor": "white",
            "ticks": ""
           }
          },
          "title": {
           "x": 0.05
          },
          "xaxis": {
           "automargin": true,
           "gridcolor": "white",
           "linecolor": "white",
           "ticks": "",
           "title": {
            "standoff": 15
           },
           "zerolinecolor": "white",
           "zerolinewidth": 2
          },
          "yaxis": {
           "automargin": true,
           "gridcolor": "white",
           "linecolor": "white",
           "ticks": "",
           "title": {
            "standoff": 15
           },
           "zerolinecolor": "white",
           "zerolinewidth": 2
          }
         }
        },
        "title": {
         "text": "Gasoline Price Trend per City"
        },
        "xaxis": {
         "anchor": "y",
         "domain": [
          0,
          1
         ],
         "title": {
          "text": "Year"
         }
        },
        "yaxis": {
         "anchor": "x",
         "domain": [
          0,
          1
         ],
         "title": {
          "text": "Annual Average Price, Cents per Litre"
         }
        }
       }
      }
     },
     "metadata": {},
     "output_type": "display_data"
    }
   ],
   "source": [
    "# Population total by county\n",
    "county_pop_history=df[['COUNTY', 'YEAR', 'TOT_POP']].groupby(['COUNTY','YEAR']).TOT_POP.sum().reset_index(name='TOT_POP')\n",
    "fig = px.line(county_pop_history, x='YEAR', y='TOT_POP', color='COUNTY', color_discrete_sequence=px.colors.qualitative.Light24)\n",
    "fig.update_traces(mode='markers+lines')\n",
    "fig.update_layout(\n",
    "    title=\"Population History per Texas County\",\n",
    "    xaxis_title=\"Year\",\n",
    "    yaxis_title=\"Annual County Population\")\n",
    "fig.show()"
   ]
  },
  {
   "cell_type": "code",
   "execution_count": 20,
   "metadata": {},
   "outputs": [
    {
     "data": {
      "text/plain": [
       "COUNTY\n",
       "Harris      8915490.0\n",
       "Dallas      5054200.0\n",
       "Bexar       3740483.4\n",
       "Collin      1808216.6\n",
       "El Paso     1659562.2\n",
       "Denton      1541433.2\n",
       "Brazoria     685476.6\n",
       "Bell         670208.4\n",
       "Brazos       424111.6\n",
       "Ellis        327943.0\n",
       "Comal        257101.6\n",
       "Bowie        186382.0\n",
       "Chambers      77898.0\n",
       "Castro        15766.2\n",
       "Name: TOT_POP, dtype: float64"
      ]
     },
     "execution_count": 20,
     "metadata": {},
     "output_type": "execute_result"
    }
   ],
   "source": [
    "# Population Breakdown per County\n",
    "df.groupby(['COUNTY']).TOT_POP.mean().sort_values(ascending=False)"
   ]
  },
  {
   "cell_type": "code",
   "execution_count": 21,
   "metadata": {},
   "outputs": [],
   "source": [
    "#since population is broken up in terms of male and female for ethnicity groups\n",
    "#I want to add a total value per ethnicity groups\n",
    "df['BA_All'] = df['BA_FEMALE']+df['BA_MALE'] # black only\n",
    "df['WA_All'] = df['WA_FEMALE']+df['WA_MALE'] # white only\n",
    "df['H_All'] = df['H_FEMALE']+df['H_MALE']    # hispanic\n",
    "df['AA_All'] = df['AA_FEMALE']+df['AA_MALE'] # asian only\n",
    "df['IAC_All'] = df['IAC_FEMALE']+df['IAC_MALE']# american indian or alaska native in combo\n",
    "df['HBA_All'] = df['HBA_FEMALE']+df['HBA_MALE'] #hispanic or black \n",
    "df['NHBA_All'] = df['NHBA_FEMALE']+df['NHBA_MALE'] #not hispanic, black or combination"
   ]
  },
  {
   "cell_type": "code",
   "execution_count": 29,
   "metadata": {},
   "outputs": [
    {
     "data": {
      "text/html": [
       "<div>\n",
       "<style scoped>\n",
       "    .dataframe tbody tr th:only-of-type {\n",
       "        vertical-align: middle;\n",
       "    }\n",
       "\n",
       "    .dataframe tbody tr th {\n",
       "        vertical-align: top;\n",
       "    }\n",
       "\n",
       "    .dataframe thead th {\n",
       "        text-align: right;\n",
       "    }\n",
       "</style>\n",
       "<table border=\"1\" class=\"dataframe\">\n",
       "  <thead>\n",
       "    <tr style=\"text-align: right;\">\n",
       "      <th></th>\n",
       "      <th>COUNTY</th>\n",
       "      <th>BA_All</th>\n",
       "      <th>WA_All</th>\n",
       "      <th>H_All</th>\n",
       "      <th>AA_All</th>\n",
       "      <th>IAC_All</th>\n",
       "    </tr>\n",
       "  </thead>\n",
       "  <tbody>\n",
       "    <tr>\n",
       "      <th>0</th>\n",
       "      <td>Bell</td>\n",
       "      <td>155720.4</td>\n",
       "      <td>451180.2</td>\n",
       "      <td>159586.6</td>\n",
       "      <td>21021.6</td>\n",
       "      <td>14046.6</td>\n",
       "    </tr>\n",
       "    <tr>\n",
       "      <th>1</th>\n",
       "      <td>Bexar</td>\n",
       "      <td>310293.2</td>\n",
       "      <td>3182725.8</td>\n",
       "      <td>2233047.2</td>\n",
       "      <td>111042.4</td>\n",
       "      <td>71937.6</td>\n",
       "    </tr>\n",
       "    <tr>\n",
       "      <th>2</th>\n",
       "      <td>Bowie</td>\n",
       "      <td>46262.6</td>\n",
       "      <td>131981.6</td>\n",
       "      <td>13493.6</td>\n",
       "      <td>1976.6</td>\n",
       "      <td>3468.8</td>\n",
       "    </tr>\n",
       "    <tr>\n",
       "      <th>3</th>\n",
       "      <td>Brazoria</td>\n",
       "      <td>93539.0</td>\n",
       "      <td>529369.6</td>\n",
       "      <td>203017.4</td>\n",
       "      <td>43517.6</td>\n",
       "      <td>9555.8</td>\n",
       "    </tr>\n",
       "    <tr>\n",
       "      <th>4</th>\n",
       "      <td>Brazos</td>\n",
       "      <td>47296.4</td>\n",
       "      <td>340445.2</td>\n",
       "      <td>105436.8</td>\n",
       "      <td>25216.8</td>\n",
       "      <td>5115.6</td>\n",
       "    </tr>\n",
       "  </tbody>\n",
       "</table>\n",
       "</div>"
      ],
      "text/plain": [
       "     COUNTY    BA_All     WA_All      H_All    AA_All  IAC_All\n",
       "0      Bell  155720.4   451180.2   159586.6   21021.6  14046.6\n",
       "1     Bexar  310293.2  3182725.8  2233047.2  111042.4  71937.6\n",
       "2     Bowie   46262.6   131981.6    13493.6    1976.6   3468.8\n",
       "3  Brazoria   93539.0   529369.6   203017.4   43517.6   9555.8\n",
       "4    Brazos   47296.4   340445.2   105436.8   25216.8   5115.6"
      ]
     },
     "execution_count": 29,
     "metadata": {},
     "output_type": "execute_result"
    }
   ],
   "source": [
    "#minority breakdown Black Only, White Only, Hispanic Only, Asian Only, Indigeinous Only mean over the years \n",
    "#sorted by highest Black Only population\n",
    "racepop = df.groupby(['COUNTY'])[['BA_All', 'WA_All', 'H_All', 'AA_All', 'IAC_All']].mean().reset_index()\n",
    "racepop.head()"
   ]
  },
  {
   "cell_type": "code",
   "execution_count": 30,
   "metadata": {},
   "outputs": [
    {
     "data": {
      "text/plain": [
       "<Axes: title={'center': 'Stacked Bar Graph'}, ylabel='COUNTY'>"
      ]
     },
     "execution_count": 30,
     "metadata": {},
     "output_type": "execute_result"
    },
    {
     "data": {
      "image/png": "[encoded data removed]",
      "text/plain": [
       "<Figure size 640x480 with 1 Axes>"
      ]
     },
     "metadata": {},
     "output_type": "display_data"
    }
   ],
   "source": [
    "racepop.plot(\n",
    "    x = 'COUNTY',\n",
    "    kind = 'barh',\n",
    "    stacked = True,\n",
    "    title = 'Race breakdown by average population',\n",
    "    mark_right = True)"
   ]
  },
  {
   "cell_type": "code",
   "execution_count": 26,
   "metadata": {},
   "outputs": [],
   "source": [
    "country_race_pop = df.groupby(['COUNTY'])[['BA_All', 'WA_All', 'H_All', 'AA_All', 'IAC_All']].mean().reset_index()"
   ]
  },
  {
   "cell_type": "code",
   "execution_count": null,
   "metadata": {},
   "outputs": [],
   "source": [
    "fig = px.bar(country_race_pop,  \n",
    "            x='COUNTY', y = \"Value\", animation_frame=\"Year\")"
   ]
  },
  {
   "cell_type": "code",
   "execution_count": null,
   "metadata": {},
   "outputs": [],
   "source": [
    "#Non-Hispanic White and Hispanic & Black Breakdowns mean over the years\n",
    "#sorted by highest Hispanic and Black population\n",
    "df.groupby(['FENAME'])['NHBA_All', 'HBA_All'].mean().sort_values(by='HBA_All', ascending=False)"
   ]
  },
  {
   "cell_type": "code",
   "execution_count": null,
   "metadata": {},
   "outputs": [],
   "source": [
    "#highest percentage of Hispanic and Black residents on average over the years\n",
    "df['HBARatio']=df['HBA_All']/df['TOT_POP']\n",
    "df.groupby(['FENAME'])['HBARatio'].mean().sort_values(ascending=False)"
   ]
  },
  {
   "cell_type": "code",
   "execution_count": null,
   "metadata": {},
   "outputs": [],
   "source": [
    "grp=df.groupby(['FENAME'])\n",
    "legendnames = grp.apply(lambda x: x.FENAME)\n",
    "plots = grp.plot('YEAR', 'HBARatio', legend=True, ax=ax)"
   ]
  },
  {
   "cell_type": "code",
   "execution_count": null,
   "metadata": {},
   "outputs": [],
   "source": [
    "fig, ax = plt.subplots(figsize=(10,8))\n",
    "thecounties = list(df.FENAME.unique())\n",
    "for c in thecounties: \n",
    "    df1 = df[df['FENAME']== c]\n",
    "    df1.plot(x='YEAR', y='HBARatio', kind='line', ax=ax, label=c)\n"
   ]
  },
  {
   "cell_type": "code",
   "execution_count": null,
   "metadata": {},
   "outputs": [],
   "source": [
    "#total Population in the counties\n",
    "df.groupby(['YEAR','FENAME'])['TOT_POP'].sum().unstack().plot()"
   ]
  },
  {
   "cell_type": "code",
   "execution_count": null,
   "metadata": {},
   "outputs": [],
   "source": [
    "#Look at the mean of the population of the counties\n",
    "df.groupby(['FENAME'])['TOT_POP'].mean().plot(kind='barh')"
   ]
  },
  {
   "cell_type": "code",
   "execution_count": null,
   "metadata": {},
   "outputs": [],
   "source": [
    "\n",
    "#Add Percentages Columns since the County Populations vary significantly\n",
    "df['BlackOnly_Percentage'] = df['BA_All'] /df['TOT_POP']\n",
    "df['WhiteOnly_Percentage'] =  df['WA_All'] /df['TOT_POP']\n",
    "df['IndigenousOnly_Percentage'] =  df['IAC_All'] /df['TOT_POP']\n",
    "df['HispanicsOnly_Percentage'] =  df['H_All'] /df['TOT_POP']\n",
    "df['AsianOnly_Percentage'] =  df['AA_All'] /df['TOT_POP']\n",
    "df['HispanicsandorBlack_Percentage'] = df['HBA_All'] /df['TOT_POP']\n",
    "df[df['YEAR']==2019].describe()\n",
    "\n",
    "\n",
    "\n"
   ]
  },
  {
   "cell_type": "code",
   "execution_count": null,
   "metadata": {},
   "outputs": [],
   "source": [
    "df.groupby(['FENAME'])['HispanicsandorBlack_Percentage'].mean().plot(kind='barh')"
   ]
  },
  {
   "cell_type": "code",
   "execution_count": null,
   "metadata": {},
   "outputs": [],
   "source": [
    "# Black Only Percentages in County\n",
    "fig, ax = plt.subplots(figsize=(10,8))\n",
    "thecounties = list(df.FENAME.unique())\n",
    "for c in thecounties: \n",
    "    df1 = df[df['FENAME']== c]\n",
    "    df1.plot(x='YEAR', y='BlackOnly_Percentage', kind='line', ax=ax, label=c)\n",
    "  "
   ]
  },
  {
   "cell_type": "code",
   "execution_count": null,
   "metadata": {},
   "outputs": [],
   "source": [
    "# Hispanics Only Percentages in County\n",
    "fig, ax = plt.subplots(figsize=(10,8))\n",
    "thecounties = list(df.FENAME.unique())\n",
    "for c in thecounties: \n",
    "    df1 = df[df['FENAME']== c]\n",
    "    df1.plot(x='YEAR', y='HispanicsOnly_Percentage', kind='line', ax=ax, label=c)"
   ]
  },
  {
   "cell_type": "code",
   "execution_count": null,
   "metadata": {},
   "outputs": [],
   "source": [
    "# Hispanic and Blacks Percentages in County\n",
    "fig, ax = plt.subplots(figsize=(10,8))\n",
    "thecounties = list(df.FENAME.unique())\n",
    "for c in thecounties: \n",
    "    df1 = df[df['FENAME']== c]\n",
    "    df1.plot(x='YEAR', y='HispanicsandorBlack_Percentage', kind='line', ax=ax, label=c)"
   ]
  },
  {
   "cell_type": "code",
   "execution_count": null,
   "metadata": {},
   "outputs": [],
   "source": [
    "# White Only Percentages in County\n",
    "fig, ax = plt.subplots(figsize=(10,8))\n",
    "thecounties = list(df.FENAME.unique())\n",
    "for c in thecounties: \n",
    "    df1 = df[df['FENAME']== c]\n",
    "    df1.plot(x='YEAR', y='WhiteOnly_Percentage', kind='line', ax=ax, label=c)"
   ]
  },
  {
   "cell_type": "code",
   "execution_count": null,
   "metadata": {},
   "outputs": [],
   "source": [
    "df.groupby(['FENAME'])['WhiteOnly_Percentage'].mean().plot(kind='barh')"
   ]
  },
  {
   "cell_type": "markdown",
   "metadata": {},
   "source": [
    "Based on the analysis, the white only percentage of the counties are decreasing (significantly in Collin, Brazoria and Bexar County), while slightly in others. \n",
    "* Castro County has the highest percentage of White only residents, while Bell has the lowest percentage\n",
    "* Bell has the highest percentage of Hispanic and Black residents, while Bowie has the lowest percentage"
   ]
  },
  {
   "cell_type": "code",
   "execution_count": null,
   "metadata": {},
   "outputs": [],
   "source": []
  }
 ],
 "metadata": {
  "kernelspec": {
   "display_name": "Python 3",
   "language": "python",
   "name": "python3"
  },
  "language_info": {
   "codemirror_mode": {
    "name": "ipython",
    "version": 3
   },
   "file_extension": ".py",
   "mimetype": "text/x-python",
   "name": "python",
   "nbconvert_exporter": "python",
   "pygments_lexer": "ipython3",
   "version": "3.10.11"
  }
 },
 "nbformat": 4,
 "nbformat_minor": 2
}
