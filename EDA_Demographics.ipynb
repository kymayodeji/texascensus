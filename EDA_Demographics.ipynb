{
 "cells": [
  {
   "cell_type": "markdown",
   "metadata": {},
   "source": [
    " \n",
    "# Team 63 Exploratory Data Analysis : Demographic County Data\n",
    "## Preliminary\n",
    "\n",
    " \n",
    "\n"
   ]
  },
  {
   "cell_type": "code",
   "execution_count": null,
   "metadata": {},
   "outputs": [],
   "source": [
    "import pandas as pd\n",
    "import numpy as np\n",
    "import matplotlib.pyplot as plt\n",
    "import seaborn as sns"
   ]
  },
  {
   "cell_type": "code",
   "execution_count": null,
   "metadata": {},
   "outputs": [],
   "source": []
  },
  {
   "cell_type": "code",
   "execution_count": null,
   "metadata": {},
   "outputs": [],
   "source": [
    "#Info about the Texas Demographic Data\n",
    "df_demo=pd.read_csv('../data/cc-est2019-alldata-48.csv')\n",
    "print('Demographic: ', df_demo.shape, df_demo.columns)\n"
   ]
  },
  {
   "cell_type": "code",
   "execution_count": null,
   "metadata": {},
   "outputs": [],
   "source": [
    "df_demo.head()"
   ]
  },
  {
   "cell_type": "code",
   "execution_count": null,
   "metadata": {},
   "outputs": [],
   "source": [
    "df_demo.tail()"
   ]
  },
  {
   "cell_type": "code",
   "execution_count": null,
   "metadata": {},
   "outputs": [],
   "source": [
    "#according to the County Characteristics, year 1 is the 2010 Census Population and \n",
    "# years 2&3 is estimates base and estimate for 2010,\n",
    "# years 4-12 represent Population estimates for years 2011 - 2019.  \n",
    "# I'm going to drop years 2 and 3 and change the entry to the the year of estimation\n",
    "notneeded = df_demo[(df_demo['YEAR']==2) | (df_demo['YEAR']==3)].index\n",
    "df_demo.drop(notneeded, inplace=True)\n",
    "convert_year_nums = {'YEAR': {1:2010, 4:2011, 5:2012, 6:2013, 7:2014, 8:2015, \n",
    "                             9:2016, 10:2017, 11:2018, 12:2019}}\n",
    "df_demo.replace(convert_year_nums, inplace=True)\n",
    "df_demo['YEAR'].unique()\n"
   ]
  },
  {
   "cell_type": "code",
   "execution_count": null,
   "metadata": {},
   "outputs": [],
   "source": [
    "#Number of counties in the dataset \n",
    "print('Total number of Texas Counties in dataset: ', df_demo.groupby('COUNTY').ngroups)"
   ]
  },
  {
   "cell_type": "code",
   "execution_count": null,
   "metadata": {},
   "outputs": [],
   "source": [
    "#Our group is not interested in all counties, but a specific list of counties.\n",
    "#Since the column for COUNTY and state reference a County Code, we will all a County Name column \n",
    "#with a data set of Texas Counties as found on the State Education website\n",
    "#load the counties csv\n",
    "TX_counties = pd.read_csv('../data/Counties.csv')\n",
    "TX_counties.head()\n",
    "#pull out only the country code and its associated name\n",
    "County_Names = TX_counties.loc[:, 'FIPS':'FENAME']\n",
    "# Merge the df_demo with the added columns from County_Name on FIPS ... County Code\n",
    "df_demo_counties = pd.merge(left=df_demo, right=County_Names, left_on='COUNTY', right_on='FIPS')\n",
    "# Since only have shutdown information from only a few of the 254 counties in TX\n",
    "# We only want to look at the information for those counties\n",
    "spec_counties = ['BELL','BEXAR','BOWIE','BRAZORIA','BRAZOS','HARRIS','CASTRO',\n",
    "                 'CHAMBERS','COLLIN','Comal','DALLAS','DENTON','ELLIS','EL PASO']\n",
    "df_spec_counties = df_demo_counties[df_demo_counties['FENAME'].isin(spec_counties)].reset_index(drop=True)\n",
    "#df_spec_counties = df_spec_counties.rename(columns={'FENAME': 'County Name'})\n",
    "\n"
   ]
  },
  {
   "cell_type": "code",
   "execution_count": null,
   "metadata": {
    "scrolled": true
   },
   "outputs": [],
   "source": [
    "print('Total number of Special Texas Counties in dataset: ', df_spec_counties.groupby('CTYNAME').ngroups)\n",
    "df_spec_counties['CTYNAME'].unique()"
   ]
  },
  {
   "cell_type": "code",
   "execution_count": null,
   "metadata": {},
   "outputs": [],
   "source": [
    "#Group the rows by County and Year, then sum the columns so I don't have to look at the data by age group\n",
    "grouped_spec_counties = df_spec_counties.groupby(['FENAME', 'YEAR'])\n",
    "df=grouped_spec_counties.sum()\n",
    "df = df.reset_index()\n"
   ]
  },
  {
   "cell_type": "code",
   "execution_count": null,
   "metadata": {},
   "outputs": [],
   "source": [
    "df.head()"
   ]
  },
  {
   "cell_type": "code",
   "execution_count": null,
   "metadata": {},
   "outputs": [],
   "source": [
    "# Population Breakdown per County\n",
    "df.groupby(['FENAME']).TOT_POP.mean().sort_values(ascending=False)"
   ]
  },
  {
   "cell_type": "code",
   "execution_count": null,
   "metadata": {},
   "outputs": [],
   "source": [
    "#since population is broken up in terms of male and female for ethnicity groups\n",
    "#I want to add a total value per ethnicity groups\n",
    "df['BA_All'] = df['BA_FEMALE']+df['BA_MALE'] # black only\n",
    "df['WA_All'] = df['WA_FEMALE']+df['WA_MALE'] # white only\n",
    "df['H_All'] = df['H_FEMALE']+df['H_MALE']    # hispanic\n",
    "df['AA_All'] = df['AA_FEMALE']+df['AA_MALE'] # asian only\n",
    "df['IAC_All'] = df['IAC_FEMALE']+df['IAC_MALE']# american indian or alaska native in combo\n",
    "df['HBA_All'] = df['HBA_FEMALE']+df['HBA_MALE'] #hispanic or black \n",
    "df['NHBA_All'] = df['NHBA_FEMALE']+df['NHBA_MALE'] #not hispanic, black or combination"
   ]
  },
  {
   "cell_type": "code",
   "execution_count": null,
   "metadata": {},
   "outputs": [],
   "source": [
    "#minority breakdown Black Only, White Only, Hispanic Only, Asian Only, Indigeinous Only mean over the years \n",
    "#sorted by highest Black Only population\n",
    "df.groupby(['FENAME'])['BA_All', 'WA_All', 'H_All', 'AA_All', 'IAC_All'].mean().sort_values(by='BA_All', ascending=False)"
   ]
  },
  {
   "cell_type": "code",
   "execution_count": null,
   "metadata": {},
   "outputs": [],
   "source": [
    "#Non-Hispanic White and Hispanic & Black Breakdowns mean over the years\n",
    "#sorted by highest Hispanic and Black population\n",
    "df.groupby(['FENAME'])['NHBA_All', 'HBA_All'].mean().sort_values(by='HBA_All', ascending=False)"
   ]
  },
  {
   "cell_type": "code",
   "execution_count": null,
   "metadata": {},
   "outputs": [],
   "source": [
    "#highest percentage of Hispanic and Black residents on average over the years\n",
    "df['HBARatio']=df['HBA_All']/df['TOT_POP']\n",
    "df.groupby(['FENAME'])['HBARatio'].mean().sort_values(ascending=False)"
   ]
  },
  {
   "cell_type": "code",
   "execution_count": null,
   "metadata": {},
   "outputs": [],
   "source": [
    "grp=df.groupby(['FENAME'])\n",
    "legendnames = grp.apply(lambda x: x.FENAME)\n",
    "plots = grp.plot('YEAR', 'HBARatio', legend=True, ax=ax)"
   ]
  },
  {
   "cell_type": "code",
   "execution_count": null,
   "metadata": {},
   "outputs": [],
   "source": [
    "fig, ax = plt.subplots(figsize=(10,8))\n",
    "thecounties = list(df.FENAME.unique())\n",
    "for c in thecounties: \n",
    "    df1 = df[df['FENAME']== c]\n",
    "    df1.plot(x='YEAR', y='HBARatio', kind='line', ax=ax, label=c)\n"
   ]
  },
  {
   "cell_type": "code",
   "execution_count": null,
   "metadata": {},
   "outputs": [],
   "source": [
    "#total Population in the counties\n",
    "df.groupby(['YEAR','FENAME'])['TOT_POP'].sum().unstack().plot()"
   ]
  },
  {
   "cell_type": "code",
   "execution_count": null,
   "metadata": {},
   "outputs": [],
   "source": [
    "#Look at the mean of the population of the counties\n",
    "df.groupby(['FENAME'])['TOT_POP'].mean().plot(kind='barh')"
   ]
  },
  {
   "cell_type": "code",
   "execution_count": null,
   "metadata": {},
   "outputs": [],
   "source": [
    "\n",
    "#Add Percentages Columns since the County Populations vary significantly\n",
    "df['BlackOnly_Percentage'] = df['BA_All'] /df['TOT_POP']\n",
    "df['WhiteOnly_Percentage'] =  df['WA_All'] /df['TOT_POP']\n",
    "df['IndigenousOnly_Percentage'] =  df['IAC_All'] /df['TOT_POP']\n",
    "df['HispanicsOnly_Percentage'] =  df['H_All'] /df['TOT_POP']\n",
    "df['AsianOnly_Percentage'] =  df['AA_All'] /df['TOT_POP']\n",
    "df['HispanicsandorBlack_Percentage'] = df['HBA_All'] /df['TOT_POP']\n",
    "df[df['YEAR']==2019].describe()\n",
    "\n",
    "\n",
    "\n"
   ]
  },
  {
   "cell_type": "code",
   "execution_count": null,
   "metadata": {},
   "outputs": [],
   "source": [
    "df.groupby(['FENAME'])['HispanicsandorBlack_Percentage'].mean().plot(kind='barh')"
   ]
  },
  {
   "cell_type": "code",
   "execution_count": null,
   "metadata": {},
   "outputs": [],
   "source": [
    "# Black Only Percentages in County\n",
    "fig, ax = plt.subplots(figsize=(10,8))\n",
    "thecounties = list(df.FENAME.unique())\n",
    "for c in thecounties: \n",
    "    df1 = df[df['FENAME']== c]\n",
    "    df1.plot(x='YEAR', y='BlackOnly_Percentage', kind='line', ax=ax, label=c)\n",
    "  "
   ]
  },
  {
   "cell_type": "code",
   "execution_count": null,
   "metadata": {},
   "outputs": [],
   "source": [
    "# Hispanics Only Percentages in County\n",
    "fig, ax = plt.subplots(figsize=(10,8))\n",
    "thecounties = list(df.FENAME.unique())\n",
    "for c in thecounties: \n",
    "    df1 = df[df['FENAME']== c]\n",
    "    df1.plot(x='YEAR', y='HispanicsOnly_Percentage', kind='line', ax=ax, label=c)"
   ]
  },
  {
   "cell_type": "code",
   "execution_count": null,
   "metadata": {},
   "outputs": [],
   "source": [
    "# Hispanic and Blacks Percentages in County\n",
    "fig, ax = plt.subplots(figsize=(10,8))\n",
    "thecounties = list(df.FENAME.unique())\n",
    "for c in thecounties: \n",
    "    df1 = df[df['FENAME']== c]\n",
    "    df1.plot(x='YEAR', y='HispanicsandorBlack_Percentage', kind='line', ax=ax, label=c)"
   ]
  },
  {
   "cell_type": "code",
   "execution_count": null,
   "metadata": {},
   "outputs": [],
   "source": [
    "# White Only Percentages in County\n",
    "fig, ax = plt.subplots(figsize=(10,8))\n",
    "thecounties = list(df.FENAME.unique())\n",
    "for c in thecounties: \n",
    "    df1 = df[df['FENAME']== c]\n",
    "    df1.plot(x='YEAR', y='WhiteOnly_Percentage', kind='line', ax=ax, label=c)"
   ]
  },
  {
   "cell_type": "code",
   "execution_count": null,
   "metadata": {},
   "outputs": [],
   "source": [
    "df.groupby(['FENAME'])['WhiteOnly_Percentage'].mean().plot(kind='barh')"
   ]
  },
  {
   "cell_type": "markdown",
   "metadata": {},
   "source": [
    "Based on the analysis, the white only percentage of the counties are decreasing (significantly in Collin, Brazoria and Bexar County), while slightly in others. \n",
    "* Castro County has the highest percentage of White only residents, while Bell has the lowest percentage\n",
    "* Bell has the highest percentage of Hispanic and Black residents, while Bowie has the lowest percentage"
   ]
  },
  {
   "cell_type": "code",
   "execution_count": null,
   "metadata": {},
   "outputs": [],
   "source": []
  }
 ],
 "metadata": {
  "kernelspec": {
   "display_name": "Python 3",
   "language": "python",
   "name": "python3"
  },
  "language_info": {
   "codemirror_mode": {
    "name": "ipython",
    "version": 3
   },
   "file_extension": ".py",
   "mimetype": "text/x-python",
   "name": "python",
   "nbconvert_exporter": "python",
   "pygments_lexer": "ipython3",
   "version": "3.6.7"
  }
 },
 "nbformat": 4,
 "nbformat_minor": 2
}
